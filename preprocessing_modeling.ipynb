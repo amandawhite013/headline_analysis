{
 "cells": [
  {
   "cell_type": "code",
   "execution_count": 1,
   "metadata": {},
   "outputs": [],
   "source": [
    "from numpy.random import seed\n",
    "seed(1)\n",
    "import tensorflow\n",
    "tensorflow.random.set_seed(1)"
   ]
  },
  {
   "cell_type": "code",
   "execution_count": 2,
   "metadata": {},
   "outputs": [],
   "source": [
    "import pandas as pd\n",
    "import numpy as np \n",
    "import matplotlib as plt\n",
    "import seaborn as sns"
   ]
  },
  {
   "cell_type": "code",
   "execution_count": 3,
   "metadata": {},
   "outputs": [
    {
     "name": "stderr",
     "output_type": "stream",
     "text": [
      "/home/amanda/anaconda3/lib/python3.8/site-packages/numpy/lib/arraysetops.py:580: FutureWarning: elementwise comparison failed; returning scalar instead, but in the future will perform elementwise comparison\n",
      "  mask |= (ar1 == a)\n"
     ]
    }
   ],
   "source": [
    "df = pd.read_csv('abc_examiner', index_col=0)"
   ]
  },
  {
   "cell_type": "code",
   "execution_count": 4,
   "metadata": {},
   "outputs": [
    {
     "data": {
      "text/html": [
       "<div>\n",
       "<style scoped>\n",
       "    .dataframe tbody tr th:only-of-type {\n",
       "        vertical-align: middle;\n",
       "    }\n",
       "\n",
       "    .dataframe tbody tr th {\n",
       "        vertical-align: top;\n",
       "    }\n",
       "\n",
       "    .dataframe thead th {\n",
       "        text-align: right;\n",
       "    }\n",
       "</style>\n",
       "<table border=\"1\" class=\"dataframe\">\n",
       "  <thead>\n",
       "    <tr style=\"text-align: right;\">\n",
       "      <th></th>\n",
       "      <th>publish_date</th>\n",
       "      <th>headline_text</th>\n",
       "      <th>clickbait</th>\n",
       "      <th>length</th>\n",
       "      <th>contains_exclaim</th>\n",
       "      <th>contains_question</th>\n",
       "      <th>no_stop</th>\n",
       "      <th>num_stopwords</th>\n",
       "      <th>percent_stop</th>\n",
       "      <th>num_words</th>\n",
       "    </tr>\n",
       "  </thead>\n",
       "  <tbody>\n",
       "    <tr>\n",
       "      <th>0</th>\n",
       "      <td>2010-01-01</td>\n",
       "      <td>['12m', 'degas', 'stolen', 'from', 'museum']</td>\n",
       "      <td>0</td>\n",
       "      <td>28</td>\n",
       "      <td>0</td>\n",
       "      <td>0</td>\n",
       "      <td>['12m', 'degas', 'stolen', 'museum']</td>\n",
       "      <td>1</td>\n",
       "      <td>0.200000</td>\n",
       "      <td>4</td>\n",
       "    </tr>\n",
       "    <tr>\n",
       "      <th>1</th>\n",
       "      <td>2010-01-01</td>\n",
       "      <td>['17', 'die', 'in', 'bangladesh', 'bus', 'crash']</td>\n",
       "      <td>0</td>\n",
       "      <td>30</td>\n",
       "      <td>0</td>\n",
       "      <td>0</td>\n",
       "      <td>['17', 'die', 'bangladesh', 'bus', 'crash']</td>\n",
       "      <td>1</td>\n",
       "      <td>0.166667</td>\n",
       "      <td>5</td>\n",
       "    </tr>\n",
       "    <tr>\n",
       "      <th>2</th>\n",
       "      <td>2010-01-01</td>\n",
       "      <td>['2010', 'to', 'be', 'drier', 'after', 'very',...</td>\n",
       "      <td>0</td>\n",
       "      <td>36</td>\n",
       "      <td>0</td>\n",
       "      <td>0</td>\n",
       "      <td>['2010', 'drier', 'wet', '2009']</td>\n",
       "      <td>4</td>\n",
       "      <td>0.500000</td>\n",
       "      <td>4</td>\n",
       "    </tr>\n",
       "    <tr>\n",
       "      <th>3</th>\n",
       "      <td>2010-01-01</td>\n",
       "      <td>['37', 'catholic', 'workers', 'killed', 'world...</td>\n",
       "      <td>0</td>\n",
       "      <td>36</td>\n",
       "      <td>0</td>\n",
       "      <td>0</td>\n",
       "      <td>['37', 'catholic', 'workers', 'killed', 'world...</td>\n",
       "      <td>0</td>\n",
       "      <td>0.000000</td>\n",
       "      <td>5</td>\n",
       "    </tr>\n",
       "    <tr>\n",
       "      <th>4</th>\n",
       "      <td>2010-01-01</td>\n",
       "      <td>['600', 'hurt', 'in', 'philippine', 'new', 'ye...</td>\n",
       "      <td>0</td>\n",
       "      <td>39</td>\n",
       "      <td>0</td>\n",
       "      <td>0</td>\n",
       "      <td>['600', 'hurt', 'philippine', 'new', 'year', '...</td>\n",
       "      <td>1</td>\n",
       "      <td>0.142857</td>\n",
       "      <td>6</td>\n",
       "    </tr>\n",
       "  </tbody>\n",
       "</table>\n",
       "</div>"
      ],
      "text/plain": [
       "  publish_date                                      headline_text  clickbait  \\\n",
       "0   2010-01-01       ['12m', 'degas', 'stolen', 'from', 'museum']          0   \n",
       "1   2010-01-01  ['17', 'die', 'in', 'bangladesh', 'bus', 'crash']          0   \n",
       "2   2010-01-01  ['2010', 'to', 'be', 'drier', 'after', 'very',...          0   \n",
       "3   2010-01-01  ['37', 'catholic', 'workers', 'killed', 'world...          0   \n",
       "4   2010-01-01  ['600', 'hurt', 'in', 'philippine', 'new', 'ye...          0   \n",
       "\n",
       "   length  contains_exclaim  contains_question  \\\n",
       "0      28                 0                  0   \n",
       "1      30                 0                  0   \n",
       "2      36                 0                  0   \n",
       "3      36                 0                  0   \n",
       "4      39                 0                  0   \n",
       "\n",
       "                                             no_stop  num_stopwords  \\\n",
       "0               ['12m', 'degas', 'stolen', 'museum']              1   \n",
       "1        ['17', 'die', 'bangladesh', 'bus', 'crash']              1   \n",
       "2                   ['2010', 'drier', 'wet', '2009']              4   \n",
       "3  ['37', 'catholic', 'workers', 'killed', 'world...              0   \n",
       "4  ['600', 'hurt', 'philippine', 'new', 'year', '...              1   \n",
       "\n",
       "   percent_stop  num_words  \n",
       "0      0.200000          4  \n",
       "1      0.166667          5  \n",
       "2      0.500000          4  \n",
       "3      0.000000          5  \n",
       "4      0.142857          6  "
      ]
     },
     "execution_count": 4,
     "metadata": {},
     "output_type": "execute_result"
    }
   ],
   "source": [
    "df.head()"
   ]
  },
  {
   "cell_type": "code",
   "execution_count": 5,
   "metadata": {},
   "outputs": [
    {
     "data": {
      "text/plain": [
       "<matplotlib.axes._subplots.AxesSubplot at 0x7f18ebde6280>"
      ]
     },
     "execution_count": 5,
     "metadata": {},
     "output_type": "execute_result"
    },
    {
     "data": {
      "image/png": "[encoded data removed]",
      "text/plain": [
       "<Figure size 432x288 with 1 Axes>"
      ]
     },
     "metadata": {
      "needs_background": "light"
     },
     "output_type": "display_data"
    }
   ],
   "source": [
    "sns.histplot(df, x='num_words', hue='clickbait', bins=20)"
   ]
  },
  {
   "cell_type": "code",
   "execution_count": 6,
   "metadata": {},
   "outputs": [
    {
     "name": "stdout",
     "output_type": "stream",
     "text": [
      "<class 'pandas.core.frame.DataFrame'>\n",
      "Int64Index: 3582247 entries, 0 to 3582246\n",
      "Data columns (total 10 columns):\n",
      " #   Column             Dtype         \n",
      "---  ------             -----         \n",
      " 0   publish_date       datetime64[ns]\n",
      " 1   headline_text      object        \n",
      " 2   clickbait          int64         \n",
      " 3   length             int64         \n",
      " 4   contains_exclaim   int64         \n",
      " 5   contains_question  int64         \n",
      " 6   no_stop            object        \n",
      " 7   num_stopwords      int64         \n",
      " 8   percent_stop       float64       \n",
      " 9   num_words          int64         \n",
      "dtypes: datetime64[ns](1), float64(1), int64(6), object(2)\n",
      "memory usage: 300.6+ MB\n"
     ]
    }
   ],
   "source": [
    "df['publish_date'] = pd.to_datetime(df['publish_date'])\n",
    "df.info()"
   ]
  },
  {
   "cell_type": "code",
   "execution_count": 7,
   "metadata": {},
   "outputs": [
    {
     "data": {
      "text/html": [
       "<div>\n",
       "<style scoped>\n",
       "    .dataframe tbody tr th:only-of-type {\n",
       "        vertical-align: middle;\n",
       "    }\n",
       "\n",
       "    .dataframe tbody tr th {\n",
       "        vertical-align: top;\n",
       "    }\n",
       "\n",
       "    .dataframe thead th {\n",
       "        text-align: right;\n",
       "    }\n",
       "</style>\n",
       "<table border=\"1\" class=\"dataframe\">\n",
       "  <thead>\n",
       "    <tr style=\"text-align: right;\">\n",
       "      <th></th>\n",
       "      <th>clickbait</th>\n",
       "      <th>length</th>\n",
       "      <th>contains_exclaim</th>\n",
       "      <th>contains_question</th>\n",
       "      <th>num_stopwords</th>\n",
       "      <th>percent_stop</th>\n",
       "      <th>num_words</th>\n",
       "    </tr>\n",
       "  </thead>\n",
       "  <tbody>\n",
       "    <tr>\n",
       "      <th>count</th>\n",
       "      <td>3.582247e+06</td>\n",
       "      <td>3.582247e+06</td>\n",
       "      <td>3.582247e+06</td>\n",
       "      <td>3.582247e+06</td>\n",
       "      <td>3.582247e+06</td>\n",
       "      <td>3.582005e+06</td>\n",
       "      <td>3.582247e+06</td>\n",
       "    </tr>\n",
       "    <tr>\n",
       "      <th>mean</th>\n",
       "      <td>8.625260e-01</td>\n",
       "      <td>5.165683e+01</td>\n",
       "      <td>2.058931e-02</td>\n",
       "      <td>4.895196e-02</td>\n",
       "      <td>1.929295e+00</td>\n",
       "      <td>2.157510e-01</td>\n",
       "      <td>6.423850e+00</td>\n",
       "    </tr>\n",
       "    <tr>\n",
       "      <th>std</th>\n",
       "      <td>3.443472e-01</td>\n",
       "      <td>1.820707e+01</td>\n",
       "      <td>1.420049e-01</td>\n",
       "      <td>2.157676e-01</td>\n",
       "      <td>1.530970e+00</td>\n",
       "      <td>1.483143e-01</td>\n",
       "      <td>2.351434e+00</td>\n",
       "    </tr>\n",
       "    <tr>\n",
       "      <th>min</th>\n",
       "      <td>0.000000e+00</td>\n",
       "      <td>1.000000e+00</td>\n",
       "      <td>0.000000e+00</td>\n",
       "      <td>0.000000e+00</td>\n",
       "      <td>0.000000e+00</td>\n",
       "      <td>0.000000e+00</td>\n",
       "      <td>0.000000e+00</td>\n",
       "    </tr>\n",
       "    <tr>\n",
       "      <th>25%</th>\n",
       "      <td>1.000000e+00</td>\n",
       "      <td>3.800000e+01</td>\n",
       "      <td>0.000000e+00</td>\n",
       "      <td>0.000000e+00</td>\n",
       "      <td>1.000000e+00</td>\n",
       "      <td>1.250000e-01</td>\n",
       "      <td>5.000000e+00</td>\n",
       "    </tr>\n",
       "    <tr>\n",
       "      <th>50%</th>\n",
       "      <td>1.000000e+00</td>\n",
       "      <td>5.100000e+01</td>\n",
       "      <td>0.000000e+00</td>\n",
       "      <td>0.000000e+00</td>\n",
       "      <td>2.000000e+00</td>\n",
       "      <td>2.000000e-01</td>\n",
       "      <td>6.000000e+00</td>\n",
       "    </tr>\n",
       "    <tr>\n",
       "      <th>75%</th>\n",
       "      <td>1.000000e+00</td>\n",
       "      <td>6.600000e+01</td>\n",
       "      <td>0.000000e+00</td>\n",
       "      <td>0.000000e+00</td>\n",
       "      <td>3.000000e+00</td>\n",
       "      <td>3.076923e-01</td>\n",
       "      <td>8.000000e+00</td>\n",
       "    </tr>\n",
       "    <tr>\n",
       "      <th>max</th>\n",
       "      <td>1.000000e+00</td>\n",
       "      <td>1.030000e+02</td>\n",
       "      <td>1.000000e+00</td>\n",
       "      <td>1.000000e+00</td>\n",
       "      <td>2.100000e+01</td>\n",
       "      <td>1.000000e+00</td>\n",
       "      <td>1.900000e+01</td>\n",
       "    </tr>\n",
       "  </tbody>\n",
       "</table>\n",
       "</div>"
      ],
      "text/plain": [
       "          clickbait        length  contains_exclaim  contains_question  \\\n",
       "count  3.582247e+06  3.582247e+06      3.582247e+06       3.582247e+06   \n",
       "mean   8.625260e-01  5.165683e+01      2.058931e-02       4.895196e-02   \n",
       "std    3.443472e-01  1.820707e+01      1.420049e-01       2.157676e-01   \n",
       "min    0.000000e+00  1.000000e+00      0.000000e+00       0.000000e+00   \n",
       "25%    1.000000e+00  3.800000e+01      0.000000e+00       0.000000e+00   \n",
       "50%    1.000000e+00  5.100000e+01      0.000000e+00       0.000000e+00   \n",
       "75%    1.000000e+00  6.600000e+01      0.000000e+00       0.000000e+00   \n",
       "max    1.000000e+00  1.030000e+02      1.000000e+00       1.000000e+00   \n",
       "\n",
       "       num_stopwords  percent_stop     num_words  \n",
       "count   3.582247e+06  3.582005e+06  3.582247e+06  \n",
       "mean    1.929295e+00  2.157510e-01  6.423850e+00  \n",
       "std     1.530970e+00  1.483143e-01  2.351434e+00  \n",
       "min     0.000000e+00  0.000000e+00  0.000000e+00  \n",
       "25%     1.000000e+00  1.250000e-01  5.000000e+00  \n",
       "50%     2.000000e+00  2.000000e-01  6.000000e+00  \n",
       "75%     3.000000e+00  3.076923e-01  8.000000e+00  \n",
       "max     2.100000e+01  1.000000e+00  1.900000e+01  "
      ]
     },
     "execution_count": 7,
     "metadata": {},
     "output_type": "execute_result"
    }
   ],
   "source": [
    "df.describe()"
   ]
  },
  {
   "cell_type": "code",
   "execution_count": 8,
   "metadata": {},
   "outputs": [
    {
     "data": {
      "text/plain": [
       "publish_date         False\n",
       "headline_text        False\n",
       "clickbait            False\n",
       "length               False\n",
       "contains_exclaim     False\n",
       "contains_question    False\n",
       "no_stop              False\n",
       "num_stopwords        False\n",
       "percent_stop          True\n",
       "num_words            False\n",
       "dtype: bool"
      ]
     },
     "execution_count": 8,
     "metadata": {},
     "output_type": "execute_result"
    }
   ],
   "source": [
    "df.isna().any()"
   ]
  },
  {
   "cell_type": "code",
   "execution_count": 9,
   "metadata": {},
   "outputs": [],
   "source": [
    "df.fillna(0, inplace=True) #looks like percent_stop has some nan because some headlines have 0 stop words fill with 0"
   ]
  },
  {
   "cell_type": "code",
   "execution_count": 10,
   "metadata": {},
   "outputs": [],
   "source": [
    "df['total_words'] = df['num_words']+df['num_stopwords']"
   ]
  },
  {
   "cell_type": "code",
   "execution_count": 11,
   "metadata": {},
   "outputs": [
    {
     "data": {
      "text/html": [
       "<div>\n",
       "<style scoped>\n",
       "    .dataframe tbody tr th:only-of-type {\n",
       "        vertical-align: middle;\n",
       "    }\n",
       "\n",
       "    .dataframe tbody tr th {\n",
       "        vertical-align: top;\n",
       "    }\n",
       "\n",
       "    .dataframe thead th {\n",
       "        text-align: right;\n",
       "    }\n",
       "</style>\n",
       "<table border=\"1\" class=\"dataframe\">\n",
       "  <thead>\n",
       "    <tr style=\"text-align: right;\">\n",
       "      <th></th>\n",
       "      <th>publish_date</th>\n",
       "      <th>headline_text</th>\n",
       "      <th>clickbait</th>\n",
       "      <th>length</th>\n",
       "      <th>contains_exclaim</th>\n",
       "      <th>contains_question</th>\n",
       "      <th>no_stop</th>\n",
       "      <th>num_stopwords</th>\n",
       "      <th>percent_stop</th>\n",
       "      <th>num_words</th>\n",
       "      <th>total_words</th>\n",
       "    </tr>\n",
       "  </thead>\n",
       "  <tbody>\n",
       "    <tr>\n",
       "      <th>233690</th>\n",
       "      <td>2012-11-27</td>\n",
       "      <td>['fire', 'o', 's']</td>\n",
       "      <td>0</td>\n",
       "      <td>8</td>\n",
       "      <td>0</td>\n",
       "      <td>0</td>\n",
       "      <td>['fire']</td>\n",
       "      <td>2</td>\n",
       "      <td>0.666667</td>\n",
       "      <td>1</td>\n",
       "      <td>3</td>\n",
       "    </tr>\n",
       "    <tr>\n",
       "      <th>295720</th>\n",
       "      <td>2013-07-26</td>\n",
       "      <td>['x', 'x', 'x']</td>\n",
       "      <td>0</td>\n",
       "      <td>5</td>\n",
       "      <td>0</td>\n",
       "      <td>0</td>\n",
       "      <td>['x', 'x', 'x']</td>\n",
       "      <td>0</td>\n",
       "      <td>0.000000</td>\n",
       "      <td>3</td>\n",
       "      <td>3</td>\n",
       "    </tr>\n",
       "    <tr>\n",
       "      <th>322454</th>\n",
       "      <td>2013-11-08</td>\n",
       "      <td>['sa', 'gm', 'ban']</td>\n",
       "      <td>0</td>\n",
       "      <td>9</td>\n",
       "      <td>0</td>\n",
       "      <td>0</td>\n",
       "      <td>['sa', 'gm', 'ban']</td>\n",
       "      <td>0</td>\n",
       "      <td>0.000000</td>\n",
       "      <td>3</td>\n",
       "      <td>3</td>\n",
       "    </tr>\n",
       "    <tr>\n",
       "      <th>322531</th>\n",
       "      <td>2013-11-08</td>\n",
       "      <td>['x', 'x', 'x']</td>\n",
       "      <td>0</td>\n",
       "      <td>5</td>\n",
       "      <td>0</td>\n",
       "      <td>0</td>\n",
       "      <td>['x', 'x', 'x']</td>\n",
       "      <td>0</td>\n",
       "      <td>0.000000</td>\n",
       "      <td>3</td>\n",
       "      <td>3</td>\n",
       "    </tr>\n",
       "    <tr>\n",
       "      <th>325108</th>\n",
       "      <td>2013-11-19</td>\n",
       "      <td>['x', 'x', 'x']</td>\n",
       "      <td>0</td>\n",
       "      <td>5</td>\n",
       "      <td>0</td>\n",
       "      <td>0</td>\n",
       "      <td>['x', 'x', 'x']</td>\n",
       "      <td>0</td>\n",
       "      <td>0.000000</td>\n",
       "      <td>3</td>\n",
       "      <td>3</td>\n",
       "    </tr>\n",
       "  </tbody>\n",
       "</table>\n",
       "</div>"
      ],
      "text/plain": [
       "       publish_date        headline_text  clickbait  length  contains_exclaim  \\\n",
       "233690   2012-11-27   ['fire', 'o', 's']          0       8                 0   \n",
       "295720   2013-07-26      ['x', 'x', 'x']          0       5                 0   \n",
       "322454   2013-11-08  ['sa', 'gm', 'ban']          0       9                 0   \n",
       "322531   2013-11-08      ['x', 'x', 'x']          0       5                 0   \n",
       "325108   2013-11-19      ['x', 'x', 'x']          0       5                 0   \n",
       "\n",
       "        contains_question              no_stop  num_stopwords  percent_stop  \\\n",
       "233690                  0             ['fire']              2      0.666667   \n",
       "295720                  0      ['x', 'x', 'x']              0      0.000000   \n",
       "322454                  0  ['sa', 'gm', 'ban']              0      0.000000   \n",
       "322531                  0      ['x', 'x', 'x']              0      0.000000   \n",
       "325108                  0      ['x', 'x', 'x']              0      0.000000   \n",
       "\n",
       "        num_words  total_words  \n",
       "233690          1            3  \n",
       "295720          3            3  \n",
       "322454          3            3  \n",
       "322531          3            3  \n",
       "325108          3            3  "
      ]
     },
     "execution_count": 11,
     "metadata": {},
     "output_type": "execute_result"
    }
   ],
   "source": [
    "#some headlines are only one word or just letters, dropping these\n",
    "df[df['num_words']<=1].head()\n",
    "df.loc[(df['length']<10) & (df['total_words']>2)].head() \n"
   ]
  },
  {
   "cell_type": "code",
   "execution_count": 12,
   "metadata": {},
   "outputs": [],
   "source": [
    "#dropiing anything less than 10 characters in length or less than 2 words\n",
    "df = df.drop(df.loc[(df['length']<10) & (df['total_words']>2)].index)"
   ]
  },
  {
   "cell_type": "code",
   "execution_count": 13,
   "metadata": {},
   "outputs": [
    {
     "data": {
      "text/plain": [
       "publish_date         0\n",
       "headline_text        0\n",
       "clickbait            0\n",
       "length               0\n",
       "contains_exclaim     0\n",
       "contains_question    0\n",
       "no_stop              0\n",
       "num_stopwords        0\n",
       "percent_stop         0\n",
       "num_words            0\n",
       "total_words          0\n",
       "dtype: int64"
      ]
     },
     "execution_count": 13,
     "metadata": {},
     "output_type": "execute_result"
    }
   ],
   "source": [
    "df.loc[(df['length']<10) & (df['total_words']>2)].count()\n"
   ]
  },
  {
   "cell_type": "code",
   "execution_count": 14,
   "metadata": {},
   "outputs": [
    {
     "data": {
      "text/plain": [
       "(3582150, 11)"
      ]
     },
     "execution_count": 14,
     "metadata": {},
     "output_type": "execute_result"
    }
   ],
   "source": [
    "\n",
    "df.shape"
   ]
  },
  {
   "cell_type": "markdown",
   "metadata": {},
   "source": [
    "Randomly selecting clickbait headlines to even out the data sets"
   ]
  },
  {
   "cell_type": "code",
   "execution_count": 15,
   "metadata": {},
   "outputs": [
    {
     "data": {
      "text/html": [
       "<div>\n",
       "<style scoped>\n",
       "    .dataframe tbody tr th:only-of-type {\n",
       "        vertical-align: middle;\n",
       "    }\n",
       "\n",
       "    .dataframe tbody tr th {\n",
       "        vertical-align: top;\n",
       "    }\n",
       "\n",
       "    .dataframe thead th {\n",
       "        text-align: right;\n",
       "    }\n",
       "</style>\n",
       "<table border=\"1\" class=\"dataframe\">\n",
       "  <thead>\n",
       "    <tr style=\"text-align: right;\">\n",
       "      <th></th>\n",
       "      <th>publish_date</th>\n",
       "      <th>headline_text</th>\n",
       "      <th>clickbait</th>\n",
       "      <th>length</th>\n",
       "      <th>contains_exclaim</th>\n",
       "      <th>contains_question</th>\n",
       "      <th>no_stop</th>\n",
       "      <th>num_stopwords</th>\n",
       "      <th>percent_stop</th>\n",
       "      <th>num_words</th>\n",
       "      <th>total_words</th>\n",
       "      <th>year</th>\n",
       "      <th>month</th>\n",
       "    </tr>\n",
       "  </thead>\n",
       "  <tbody>\n",
       "    <tr>\n",
       "      <th>0</th>\n",
       "      <td>2010-01-01</td>\n",
       "      <td>['12m', 'degas', 'stolen', 'from', 'museum']</td>\n",
       "      <td>0</td>\n",
       "      <td>28</td>\n",
       "      <td>0</td>\n",
       "      <td>0</td>\n",
       "      <td>['12m', 'degas', 'stolen', 'museum']</td>\n",
       "      <td>1</td>\n",
       "      <td>0.200000</td>\n",
       "      <td>4</td>\n",
       "      <td>5</td>\n",
       "      <td>2010</td>\n",
       "      <td>1</td>\n",
       "    </tr>\n",
       "    <tr>\n",
       "      <th>1</th>\n",
       "      <td>2010-01-01</td>\n",
       "      <td>['17', 'die', 'in', 'bangladesh', 'bus', 'crash']</td>\n",
       "      <td>0</td>\n",
       "      <td>30</td>\n",
       "      <td>0</td>\n",
       "      <td>0</td>\n",
       "      <td>['17', 'die', 'bangladesh', 'bus', 'crash']</td>\n",
       "      <td>1</td>\n",
       "      <td>0.166667</td>\n",
       "      <td>5</td>\n",
       "      <td>6</td>\n",
       "      <td>2010</td>\n",
       "      <td>1</td>\n",
       "    </tr>\n",
       "    <tr>\n",
       "      <th>2</th>\n",
       "      <td>2010-01-01</td>\n",
       "      <td>['2010', 'to', 'be', 'drier', 'after', 'very',...</td>\n",
       "      <td>0</td>\n",
       "      <td>36</td>\n",
       "      <td>0</td>\n",
       "      <td>0</td>\n",
       "      <td>['2010', 'drier', 'wet', '2009']</td>\n",
       "      <td>4</td>\n",
       "      <td>0.500000</td>\n",
       "      <td>4</td>\n",
       "      <td>8</td>\n",
       "      <td>2010</td>\n",
       "      <td>1</td>\n",
       "    </tr>\n",
       "    <tr>\n",
       "      <th>3</th>\n",
       "      <td>2010-01-01</td>\n",
       "      <td>['37', 'catholic', 'workers', 'killed', 'world...</td>\n",
       "      <td>0</td>\n",
       "      <td>36</td>\n",
       "      <td>0</td>\n",
       "      <td>0</td>\n",
       "      <td>['37', 'catholic', 'workers', 'killed', 'world...</td>\n",
       "      <td>0</td>\n",
       "      <td>0.000000</td>\n",
       "      <td>5</td>\n",
       "      <td>5</td>\n",
       "      <td>2010</td>\n",
       "      <td>1</td>\n",
       "    </tr>\n",
       "    <tr>\n",
       "      <th>4</th>\n",
       "      <td>2010-01-01</td>\n",
       "      <td>['600', 'hurt', 'in', 'philippine', 'new', 'ye...</td>\n",
       "      <td>0</td>\n",
       "      <td>39</td>\n",
       "      <td>0</td>\n",
       "      <td>0</td>\n",
       "      <td>['600', 'hurt', 'philippine', 'new', 'year', '...</td>\n",
       "      <td>1</td>\n",
       "      <td>0.142857</td>\n",
       "      <td>6</td>\n",
       "      <td>7</td>\n",
       "      <td>2010</td>\n",
       "      <td>1</td>\n",
       "    </tr>\n",
       "  </tbody>\n",
       "</table>\n",
       "</div>"
      ],
      "text/plain": [
       "  publish_date                                      headline_text  clickbait  \\\n",
       "0   2010-01-01       ['12m', 'degas', 'stolen', 'from', 'museum']          0   \n",
       "1   2010-01-01  ['17', 'die', 'in', 'bangladesh', 'bus', 'crash']          0   \n",
       "2   2010-01-01  ['2010', 'to', 'be', 'drier', 'after', 'very',...          0   \n",
       "3   2010-01-01  ['37', 'catholic', 'workers', 'killed', 'world...          0   \n",
       "4   2010-01-01  ['600', 'hurt', 'in', 'philippine', 'new', 'ye...          0   \n",
       "\n",
       "   length  contains_exclaim  contains_question  \\\n",
       "0      28                 0                  0   \n",
       "1      30                 0                  0   \n",
       "2      36                 0                  0   \n",
       "3      36                 0                  0   \n",
       "4      39                 0                  0   \n",
       "\n",
       "                                             no_stop  num_stopwords  \\\n",
       "0               ['12m', 'degas', 'stolen', 'museum']              1   \n",
       "1        ['17', 'die', 'bangladesh', 'bus', 'crash']              1   \n",
       "2                   ['2010', 'drier', 'wet', '2009']              4   \n",
       "3  ['37', 'catholic', 'workers', 'killed', 'world...              0   \n",
       "4  ['600', 'hurt', 'philippine', 'new', 'year', '...              1   \n",
       "\n",
       "   percent_stop  num_words  total_words  year  month  \n",
       "0      0.200000          4            5  2010      1  \n",
       "1      0.166667          5            6  2010      1  \n",
       "2      0.500000          4            8  2010      1  \n",
       "3      0.000000          5            5  2010      1  \n",
       "4      0.142857          6            7  2010      1  "
      ]
     },
     "execution_count": 15,
     "metadata": {},
     "output_type": "execute_result"
    }
   ],
   "source": [
    "\n",
    "#creating year and month columns to group by\n",
    "df['year'] = df['publish_date'].dt.year\n",
    "df['month'] = df['publish_date'].dt.month\n",
    "df.head()"
   ]
  },
  {
   "cell_type": "code",
   "execution_count": 16,
   "metadata": {},
   "outputs": [
    {
     "data": {
      "text/plain": [
       "publish_date         492452\n",
       "headline_text        492452\n",
       "clickbait            492452\n",
       "length               492452\n",
       "contains_exclaim     492452\n",
       "contains_question    492452\n",
       "no_stop              492452\n",
       "num_stopwords        492452\n",
       "percent_stop         492452\n",
       "num_words            492452\n",
       "total_words          492452\n",
       "year                 492452\n",
       "month                492452\n",
       "dtype: int64"
      ]
     },
     "execution_count": 16,
     "metadata": {},
     "output_type": "execute_result"
    }
   ],
   "source": [
    "df[df['clickbait']==0].count()"
   ]
  },
  {
   "cell_type": "code",
   "execution_count": 17,
   "metadata": {},
   "outputs": [
    {
     "data": {
      "text/plain": [
       "publish_date         3089698\n",
       "headline_text        3089698\n",
       "clickbait            3089698\n",
       "length               3089698\n",
       "contains_exclaim     3089698\n",
       "contains_question    3089698\n",
       "no_stop              3089698\n",
       "num_stopwords        3089698\n",
       "percent_stop         3089698\n",
       "num_words            3089698\n",
       "total_words          3089698\n",
       "year                 3089698\n",
       "month                3089698\n",
       "dtype: int64"
      ]
     },
     "execution_count": 17,
     "metadata": {},
     "output_type": "execute_result"
    }
   ],
   "source": [
    "df[df['clickbait']==1].count()"
   ]
  },
  {
   "cell_type": "code",
   "execution_count": null,
   "metadata": {},
   "outputs": [],
   "source": []
  },
  {
   "cell_type": "code",
   "execution_count": 18,
   "metadata": {},
   "outputs": [
    {
     "data": {
      "text/plain": [
       "0.1593851567370015"
      ]
     },
     "execution_count": 18,
     "metadata": {},
     "output_type": "execute_result"
    }
   ],
   "source": [
    "492452/3089698"
   ]
  },
  {
   "cell_type": "markdown",
   "metadata": {},
   "source": [
    "So we only want to keep 16% of the clickbait headlines.\n",
    "\n",
    "I will just randomly select these from the df"
   ]
  },
  {
   "cell_type": "code",
   "execution_count": 19,
   "metadata": {},
   "outputs": [
    {
     "data": {
      "text/plain": [
       "publish_date         494352\n",
       "headline_text        494352\n",
       "clickbait            494352\n",
       "length               494352\n",
       "contains_exclaim     494352\n",
       "contains_question    494352\n",
       "no_stop              494352\n",
       "num_stopwords        494352\n",
       "percent_stop         494352\n",
       "num_words            494352\n",
       "total_words          494352\n",
       "year                 494352\n",
       "month                494352\n",
       "dtype: int64"
      ]
     },
     "execution_count": 19,
     "metadata": {},
     "output_type": "execute_result"
    }
   ],
   "source": [
    "c = df[df['clickbait']==1] #selecting clickbait headlines\n",
    "c = c.sample(frac=0.16, random_state=1) #randomly selecting\n",
    "c.count() "
   ]
  },
  {
   "cell_type": "code",
   "execution_count": 20,
   "metadata": {},
   "outputs": [],
   "source": [
    "#merging new clickbait selections with non clickbait \n",
    "nc = df[df['clickbait']==0].reset_index()\n",
    "df = pd.concat([c, nc], ignore_index=True)"
   ]
  },
  {
   "cell_type": "code",
   "execution_count": 21,
   "metadata": {},
   "outputs": [
    {
     "data": {
      "text/html": [
       "<div>\n",
       "<style scoped>\n",
       "    .dataframe tbody tr th:only-of-type {\n",
       "        vertical-align: middle;\n",
       "    }\n",
       "\n",
       "    .dataframe tbody tr th {\n",
       "        vertical-align: top;\n",
       "    }\n",
       "\n",
       "    .dataframe thead th {\n",
       "        text-align: right;\n",
       "    }\n",
       "</style>\n",
       "<table border=\"1\" class=\"dataframe\">\n",
       "  <thead>\n",
       "    <tr style=\"text-align: right;\">\n",
       "      <th></th>\n",
       "      <th>clickbait</th>\n",
       "      <th>length</th>\n",
       "      <th>contains_exclaim</th>\n",
       "      <th>contains_question</th>\n",
       "      <th>num_stopwords</th>\n",
       "      <th>percent_stop</th>\n",
       "      <th>num_words</th>\n",
       "      <th>total_words</th>\n",
       "      <th>year</th>\n",
       "      <th>month</th>\n",
       "      <th>index</th>\n",
       "    </tr>\n",
       "  </thead>\n",
       "  <tbody>\n",
       "    <tr>\n",
       "      <th>count</th>\n",
       "      <td>986804.000000</td>\n",
       "      <td>986804.000000</td>\n",
       "      <td>986804.000000</td>\n",
       "      <td>986804.000000</td>\n",
       "      <td>986804.000000</td>\n",
       "      <td>986804.000000</td>\n",
       "      <td>986804.000000</td>\n",
       "      <td>986804.000000</td>\n",
       "      <td>986804.000000</td>\n",
       "      <td>986804.000000</td>\n",
       "      <td>492452.000000</td>\n",
       "    </tr>\n",
       "    <tr>\n",
       "      <th>mean</th>\n",
       "      <td>0.500963</td>\n",
       "      <td>46.524570</td>\n",
       "      <td>0.012017</td>\n",
       "      <td>0.028296</td>\n",
       "      <td>1.571945</td>\n",
       "      <td>0.188505</td>\n",
       "      <td>5.911758</td>\n",
       "      <td>7.483703</td>\n",
       "      <td>2012.097222</td>\n",
       "      <td>6.378132</td>\n",
       "      <td>246229.867398</td>\n",
       "    </tr>\n",
       "    <tr>\n",
       "      <th>std</th>\n",
       "      <td>0.499999</td>\n",
       "      <td>17.090187</td>\n",
       "      <td>0.108960</td>\n",
       "      <td>0.165818</td>\n",
       "      <td>1.407191</td>\n",
       "      <td>0.144587</td>\n",
       "      <td>2.143372</td>\n",
       "      <td>2.854618</td>\n",
       "      <td>1.651663</td>\n",
       "      <td>3.411557</td>\n",
       "      <td>142163.828879</td>\n",
       "    </tr>\n",
       "    <tr>\n",
       "      <th>min</th>\n",
       "      <td>0.000000</td>\n",
       "      <td>1.000000</td>\n",
       "      <td>0.000000</td>\n",
       "      <td>0.000000</td>\n",
       "      <td>0.000000</td>\n",
       "      <td>0.000000</td>\n",
       "      <td>0.000000</td>\n",
       "      <td>0.000000</td>\n",
       "      <td>2010.000000</td>\n",
       "      <td>1.000000</td>\n",
       "      <td>0.000000</td>\n",
       "    </tr>\n",
       "    <tr>\n",
       "      <th>25%</th>\n",
       "      <td>0.000000</td>\n",
       "      <td>34.000000</td>\n",
       "      <td>0.000000</td>\n",
       "      <td>0.000000</td>\n",
       "      <td>1.000000</td>\n",
       "      <td>0.090909</td>\n",
       "      <td>4.000000</td>\n",
       "      <td>6.000000</td>\n",
       "      <td>2011.000000</td>\n",
       "      <td>3.000000</td>\n",
       "      <td>123112.750000</td>\n",
       "    </tr>\n",
       "    <tr>\n",
       "      <th>50%</th>\n",
       "      <td>1.000000</td>\n",
       "      <td>45.000000</td>\n",
       "      <td>0.000000</td>\n",
       "      <td>0.000000</td>\n",
       "      <td>1.000000</td>\n",
       "      <td>0.166667</td>\n",
       "      <td>6.000000</td>\n",
       "      <td>7.000000</td>\n",
       "      <td>2012.000000</td>\n",
       "      <td>6.000000</td>\n",
       "      <td>246226.500000</td>\n",
       "    </tr>\n",
       "    <tr>\n",
       "      <th>75%</th>\n",
       "      <td>1.000000</td>\n",
       "      <td>58.000000</td>\n",
       "      <td>0.000000</td>\n",
       "      <td>0.000000</td>\n",
       "      <td>2.000000</td>\n",
       "      <td>0.285714</td>\n",
       "      <td>7.000000</td>\n",
       "      <td>9.000000</td>\n",
       "      <td>2013.000000</td>\n",
       "      <td>9.000000</td>\n",
       "      <td>369350.250000</td>\n",
       "    </tr>\n",
       "    <tr>\n",
       "      <th>max</th>\n",
       "      <td>1.000000</td>\n",
       "      <td>103.000000</td>\n",
       "      <td>1.000000</td>\n",
       "      <td>1.000000</td>\n",
       "      <td>21.000000</td>\n",
       "      <td>1.000000</td>\n",
       "      <td>18.000000</td>\n",
       "      <td>23.000000</td>\n",
       "      <td>2015.000000</td>\n",
       "      <td>12.000000</td>\n",
       "      <td>492465.000000</td>\n",
       "    </tr>\n",
       "  </tbody>\n",
       "</table>\n",
       "</div>"
      ],
      "text/plain": [
       "           clickbait         length  contains_exclaim  contains_question  \\\n",
       "count  986804.000000  986804.000000     986804.000000      986804.000000   \n",
       "mean        0.500963      46.524570          0.012017           0.028296   \n",
       "std         0.499999      17.090187          0.108960           0.165818   \n",
       "min         0.000000       1.000000          0.000000           0.000000   \n",
       "25%         0.000000      34.000000          0.000000           0.000000   \n",
       "50%         1.000000      45.000000          0.000000           0.000000   \n",
       "75%         1.000000      58.000000          0.000000           0.000000   \n",
       "max         1.000000     103.000000          1.000000           1.000000   \n",
       "\n",
       "       num_stopwords   percent_stop      num_words    total_words  \\\n",
       "count  986804.000000  986804.000000  986804.000000  986804.000000   \n",
       "mean        1.571945       0.188505       5.911758       7.483703   \n",
       "std         1.407191       0.144587       2.143372       2.854618   \n",
       "min         0.000000       0.000000       0.000000       0.000000   \n",
       "25%         1.000000       0.090909       4.000000       6.000000   \n",
       "50%         1.000000       0.166667       6.000000       7.000000   \n",
       "75%         2.000000       0.285714       7.000000       9.000000   \n",
       "max        21.000000       1.000000      18.000000      23.000000   \n",
       "\n",
       "                year          month          index  \n",
       "count  986804.000000  986804.000000  492452.000000  \n",
       "mean     2012.097222       6.378132  246229.867398  \n",
       "std         1.651663       3.411557  142163.828879  \n",
       "min      2010.000000       1.000000       0.000000  \n",
       "25%      2011.000000       3.000000  123112.750000  \n",
       "50%      2012.000000       6.000000  246226.500000  \n",
       "75%      2013.000000       9.000000  369350.250000  \n",
       "max      2015.000000      12.000000  492465.000000  "
      ]
     },
     "execution_count": 21,
     "metadata": {},
     "output_type": "execute_result"
    }
   ],
   "source": [
    "df.describe()"
   ]
  },
  {
   "cell_type": "code",
   "execution_count": 22,
   "metadata": {},
   "outputs": [
    {
     "data": {
      "text/plain": [
       "<matplotlib.axes._subplots.AxesSubplot at 0x7f18a57cc610>"
      ]
     },
     "execution_count": 22,
     "metadata": {},
     "output_type": "execute_result"
    },
    {
     "data": {
      "image/png": "[encoded data removed]",
      "text/plain": [
       "<Figure size 432x288 with 1 Axes>"
      ]
     },
     "metadata": {
      "needs_background": "light"
     },
     "output_type": "display_data"
    }
   ],
   "source": [
    "sns.histplot(df,bins=50, x='length', hue='clickbait')"
   ]
  },
  {
   "cell_type": "code",
   "execution_count": 23,
   "metadata": {},
   "outputs": [
    {
     "data": {
      "text/plain": [
       "<matplotlib.axes._subplots.AxesSubplot at 0x7f18a564c0d0>"
      ]
     },
     "execution_count": 23,
     "metadata": {},
     "output_type": "execute_result"
    },
    {
     "data": {
      "image/png": "[encoded data removed]",
      "text/plain": [
       "<Figure size 432x288 with 1 Axes>"
      ]
     },
     "metadata": {
      "needs_background": "light"
     },
     "output_type": "display_data"
    }
   ],
   "source": [
    "sns.histplot(df,bins=20, x='num_stopwords', hue='clickbait')\n"
   ]
  },
  {
   "cell_type": "code",
   "execution_count": 24,
   "metadata": {},
   "outputs": [
    {
     "data": {
      "text/plain": [
       "<matplotlib.axes._subplots.AxesSubplot at 0x7f18a5579310>"
      ]
     },
     "execution_count": 24,
     "metadata": {},
     "output_type": "execute_result"
    },
    {
     "data": {
      "image/png": "[encoded data removed]",
      "text/plain": [
       "<Figure size 432x288 with 1 Axes>"
      ]
     },
     "metadata": {
      "needs_background": "light"
     },
     "output_type": "display_data"
    }
   ],
   "source": [
    "sns.histplot(df,bins=15, x='num_words', hue='clickbait')\n"
   ]
  },
  {
   "cell_type": "code",
   "execution_count": 25,
   "metadata": {},
   "outputs": [],
   "source": [
    "#removing numbers from headlines\n",
    "df['no_stop'] = df['no_stop'].str.replace('\\d+', '')"
   ]
  },
  {
   "cell_type": "code",
   "execution_count": null,
   "metadata": {},
   "outputs": [],
   "source": []
  },
  {
   "cell_type": "markdown",
   "metadata": {},
   "source": [
    "### RNN"
   ]
  },
  {
   "cell_type": "code",
   "execution_count": 26,
   "metadata": {},
   "outputs": [],
   "source": [
    "import tensorflow as tf\n",
    "from tensorflow.keras.models import Sequential\n",
    "from tensorflow.keras.layers import Dense, Dropout, LSTM, Embedding\n",
    "from tensorflow.keras.models import Model\n",
    "from tensorflow.keras.preprocessing.text import Tokenizer\n",
    "from tensorflow.keras.preprocessing.sequence import pad_sequences\n",
    "import os"
   ]
  },
  {
   "cell_type": "code",
   "execution_count": 27,
   "metadata": {},
   "outputs": [],
   "source": [
    "#spliting data 75/25 train/test\n",
    "from sklearn.model_selection import train_test_split\n",
    "\n",
    "x_data = df['no_stop']\n",
    "\n",
    "x = df['no_stop'].values\n",
    "y = df['clickbait'].values\n",
    "\n",
    "x_train, x_test, y_train, y_test = train_test_split(x, y, test_size=.25, random_state=1)"
   ]
  },
  {
   "cell_type": "code",
   "execution_count": 28,
   "metadata": {},
   "outputs": [],
   "source": [
    "#tokenizing headlines\n",
    "\n",
    "\n",
    "tokenizer = Tokenizer(num_words=8000,\n",
    "    filters='!\"''#$%&()*+,-./:;<=>?@[\\\\]^_`{|}~\\t\\n',\n",
    "    lower=True, split=' ', oov_token=True)\n",
    "    \n",
    "#converting words to numbers for RNN                      \n",
    "tokenizer.fit_on_texts(x_train)\n",
    "\n"
   ]
  },
  {
   "cell_type": "code",
   "execution_count": 29,
   "metadata": {},
   "outputs": [],
   "source": [
    "x_train = tokenizer.texts_to_sequences(x_train)\n",
    "x_test = tokenizer.texts_to_sequences(x_test)\n",
    "x_train = (pad_sequences(x_train,maxlen=18, padding=\"pre\", truncating=\"post\", \\\n",
    "    value=0.0)).tolist()\n",
    "x_test = (pad_sequences(x_test, maxlen = 18, padding=\"pre\", truncating=\"post\", \\\n",
    "    value=0.0)).tolist()\n",
    "word_index = tokenizer.word_index"
   ]
  },
  {
   "cell_type": "code",
   "execution_count": 30,
   "metadata": {},
   "outputs": [],
   "source": [
    "from tqdm.notebook import tqdm"
   ]
  },
  {
   "cell_type": "code",
   "execution_count": null,
   "metadata": {},
   "outputs": [],
   "source": []
  },
  {
   "cell_type": "code",
   "execution_count": 32,
   "metadata": {},
   "outputs": [
    {
     "data": {
      "application/vnd.jupyter.widget-view+json": {
       "model_id": "1b21005c13084c11a29df325f7dfcfdd",
       "version_major": 2,
       "version_minor": 0
      },
      "text/plain": [
       "HBox(children=(FloatProgress(value=1.0, bar_style='info', max=1.0), HTML(value='')))"
      ]
     },
     "metadata": {},
     "output_type": "display_data"
    },
    {
     "name": "stdout",
     "output_type": "stream",
     "text": [
      "\n"
     ]
    }
   ],
   "source": [
    "for i, key in tqdm(enumerate(word_index.keys())):\n",
    "    if i > 0:\n",
    "        #print(key.replace(\"'\", ''),i)\n",
    "        word_index[key.replace(\"''\", '')] = word_index[key]"
   ]
  },
  {
   "cell_type": "code",
   "execution_count": null,
   "metadata": {},
   "outputs": [],
   "source": []
  },
  {
   "cell_type": "code",
   "execution_count": null,
   "metadata": {},
   "outputs": [],
   "source": []
  },
  {
   "cell_type": "code",
   "execution_count": 33,
   "metadata": {},
   "outputs": [],
   "source": [
    "x_train = np.vstack(x_train)\n",
    "x_test = np.vstack(x_test)"
   ]
  },
  {
   "cell_type": "code",
   "execution_count": 34,
   "metadata": {},
   "outputs": [
    {
     "name": "stdout",
     "output_type": "stream",
     "text": [
      "Indexing word vectors\n"
     ]
    }
   ],
   "source": [
    "#adding GloVe for embedding\n",
    "glove_dir = '/home/amanda/Documents'\n",
    "print('Indexing word vectors')\n",
    "embeddings_index = {}\n",
    "with open(os.path.join(glove_dir, 'glove.42B.300d.txt'),encoding='utf8') as f:\n",
    "    for line in f:\n",
    "        values = line.split()\n",
    "        word = values[0]\n",
    "        coefs = np.asarray(values[1:], dtype='float32')\n",
    "        embeddings_index[word] = coefs\n",
    "f.close()"
   ]
  },
  {
   "cell_type": "code",
   "execution_count": 35,
   "metadata": {},
   "outputs": [
    {
     "name": "stdout",
     "output_type": "stream",
     "text": [
      " Completed!\n"
     ]
    }
   ],
   "source": [
    "embedding_dim = 300  # embedding dimensions for word vectors GloVe\n",
    "num_words = len(word_index) +1\n",
    "\n",
    "embedding_matrix = np.zeros((num_words, embedding_dim))\n",
    "for word, i in word_index.items():\n",
    "    if i < num_words:\n",
    "        embedding_vector = embeddings_index.get(word)\n",
    "        if embedding_vector is not None:\n",
    "            embedding_matrix[i] = embedding_vector\n",
    "print(\" Completed!\")"
   ]
  },
  {
   "cell_type": "code",
   "execution_count": 36,
   "metadata": {},
   "outputs": [
    {
     "data": {
      "text/plain": [
       "32"
      ]
     },
     "execution_count": 36,
     "metadata": {},
     "output_type": "execute_result"
    }
   ],
   "source": [
    "word_index[\"'news'\"]"
   ]
  },
  {
   "cell_type": "code",
   "execution_count": 37,
   "metadata": {},
   "outputs": [
    {
     "data": {
      "text/plain": [
       "array([False, False, False, False, False, False, False, False, False,\n",
       "       False, False, False, False, False, False, False, False, False,\n",
       "       False, False, False, False, False, False, False, False, False,\n",
       "       False, False, False, False, False, False, False, False, False,\n",
       "       False, False, False, False, False, False, False, False, False,\n",
       "       False, False, False, False, False, False, False, False, False,\n",
       "       False, False, False, False, False, False, False, False, False,\n",
       "       False, False, False, False, False, False, False, False, False,\n",
       "       False, False, False, False, False, False, False, False, False,\n",
       "       False, False, False, False, False, False, False, False, False,\n",
       "       False, False, False, False, False, False, False, False, False,\n",
       "       False, False, False, False, False, False, False, False, False,\n",
       "       False, False, False, False, False, False, False, False, False,\n",
       "       False, False, False, False, False, False, False, False, False,\n",
       "       False, False, False, False, False, False, False, False, False,\n",
       "       False, False, False, False, False, False, False, False, False,\n",
       "       False, False, False, False, False, False, False, False, False,\n",
       "       False, False, False, False, False, False, False, False, False,\n",
       "       False, False, False, False, False, False, False, False, False,\n",
       "       False, False, False, False, False, False, False, False, False,\n",
       "       False, False, False, False, False, False, False, False, False,\n",
       "       False, False, False, False, False, False, False, False, False,\n",
       "       False, False, False, False, False, False, False, False, False,\n",
       "       False, False, False, False, False, False, False, False, False,\n",
       "       False, False, False, False, False, False, False, False, False,\n",
       "       False, False, False, False, False, False, False, False, False,\n",
       "       False, False, False, False, False, False, False, False, False,\n",
       "       False, False, False, False, False, False, False, False, False,\n",
       "       False, False, False, False, False, False, False, False, False,\n",
       "       False, False, False, False, False, False, False, False, False,\n",
       "       False, False, False, False, False, False, False, False, False,\n",
       "       False, False, False, False, False, False, False, False, False,\n",
       "       False, False, False, False, False, False, False, False, False,\n",
       "       False, False, False])"
      ]
     },
     "execution_count": 37,
     "metadata": {},
     "output_type": "execute_result"
    }
   ],
   "source": [
    "embedding_matrix[32] == embeddings_index.get(\"'news'\")"
   ]
  },
  {
   "cell_type": "code",
   "execution_count": 38,
   "metadata": {},
   "outputs": [],
   "source": [
    "\n",
    "model = Sequential()\n",
    "\n",
    "model.add(Embedding(input_dim=8000, output_dim=150, input_length=18))\n",
    "model.add(LSTM(128, activation='relu', return_sequences=True))\n",
    "model.add(Dropout(0.2))\n",
    "\n",
    "model.add(LSTM(128, activation='relu'))\n",
    "model.add(Dropout(0.1))\n",
    "\n",
    "model.add(Dense(32, activation='relu'))\n",
    "model.add(Dropout(0.2))\n",
    "\n",
    "model.add(Dense(10, activation='softmax'))\n",
    "\n",
    "opt = tf.keras.optimizers.Adam(lr=0.001, decay=1e-6)\n",
    "\n",
    "# Compile model\n",
    "model.compile(\n",
    "    loss='mse',\n",
    "    optimizer=opt,\n",
    "    metrics=['accuracy'],\n",
    ")\n",
    "\n"
   ]
  },
  {
   "cell_type": "code",
   "execution_count": 39,
   "metadata": {},
   "outputs": [
    {
     "name": "stdout",
     "output_type": "stream",
     "text": [
      "Epoch 1/3\n",
      "23129/23129 [==============================] - 952s 41ms/step - loss: 0.4100 - accuracy: 0.1194 - val_loss: 0.4118 - val_accuracy: 0.0000e+00\n",
      "Epoch 2/3\n",
      "23129/23129 [==============================] - 958s 41ms/step - loss: 0.4102 - accuracy: 0.1109 - val_loss: 0.4118 - val_accuracy: 0.0000e+00\n",
      "Epoch 3/3\n",
      "23129/23129 [==============================] - 941s 41ms/step - loss: 0.4097 - accuracy: 0.1119 - val_loss: 0.4118 - val_accuracy: 0.0000e+00\n"
     ]
    },
    {
     "data": {
      "text/plain": [
       "<tensorflow.python.keras.callbacks.History at 0x7f185b35cc70>"
      ]
     },
     "execution_count": 39,
     "metadata": {},
     "output_type": "execute_result"
    }
   ],
   "source": [
    "model.fit(x_train,\n",
    "          y_train,\n",
    "          epochs=3,\n",
    "          validation_data=(x_test, y_test))"
   ]
  },
  {
   "cell_type": "code",
   "execution_count": null,
   "metadata": {},
   "outputs": [],
   "source": []
  }
 ],
 "metadata": {
  "kernelspec": {
   "display_name": "Python 3",
   "language": "python",
   "name": "python3"
  },
  "language_info": {
   "codemirror_mode": {
    "name": "ipython",
    "version": 3
   },
   "file_extension": ".py",
   "mimetype": "text/x-python",
   "name": "python",
   "nbconvert_exporter": "python",
   "pygments_lexer": "ipython3",
   "version": "3.8.3"
  }
 },
 "nbformat": 4,
 "nbformat_minor": 4
}
