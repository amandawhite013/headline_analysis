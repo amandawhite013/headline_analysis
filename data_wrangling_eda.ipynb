{
 "cells": [
  {
   "cell_type": "markdown",
   "metadata": {},
   "source": [
    "## Clickbait headline analysis"
   ]
  },
  {
   "cell_type": "code",
   "execution_count": 33,
   "metadata": {},
   "outputs": [],
   "source": [
    "import pandas as pd\n",
    "import numpy as np\n",
    "import seaborn as sns\n",
    "import matplotlib as plt\n",
    "import datetime as dt\n"
   ]
  },
  {
   "cell_type": "code",
   "execution_count": 34,
   "metadata": {},
   "outputs": [],
   "source": [
    "abc = pd.read_csv('raw_data/abcnews-date-text.csv') #reputable news"
   ]
  },
  {
   "cell_type": "code",
   "execution_count": 35,
   "metadata": {},
   "outputs": [],
   "source": [
    "exm = pd.read_csv('raw_data/examiner-date-text.csv') #clickbait"
   ]
  },
  {
   "cell_type": "markdown",
   "metadata": {},
   "source": [
    "### Changing data types"
   ]
  },
  {
   "cell_type": "code",
   "execution_count": 36,
   "metadata": {},
   "outputs": [
    {
     "name": "stdout",
     "output_type": "stream",
     "text": [
      "<class 'pandas.core.frame.DataFrame'>\n",
      "RangeIndex: 1226258 entries, 0 to 1226257\n",
      "Data columns (total 2 columns):\n",
      " #   Column         Non-Null Count    Dtype \n",
      "---  ------         --------------    ----- \n",
      " 0   publish_date   1226258 non-null  int64 \n",
      " 1   headline_text  1226258 non-null  object\n",
      "dtypes: int64(1), object(1)\n",
      "memory usage: 18.7+ MB\n"
     ]
    }
   ],
   "source": [
    "abc.info()"
   ]
  },
  {
   "cell_type": "code",
   "execution_count": 37,
   "metadata": {},
   "outputs": [
    {
     "data": {
      "text/html": [
       "<div>\n",
       "<style scoped>\n",
       "    .dataframe tbody tr th:only-of-type {\n",
       "        vertical-align: middle;\n",
       "    }\n",
       "\n",
       "    .dataframe tbody tr th {\n",
       "        vertical-align: top;\n",
       "    }\n",
       "\n",
       "    .dataframe thead th {\n",
       "        text-align: right;\n",
       "    }\n",
       "</style>\n",
       "<table border=\"1\" class=\"dataframe\">\n",
       "  <thead>\n",
       "    <tr style=\"text-align: right;\">\n",
       "      <th></th>\n",
       "      <th>publish_date</th>\n",
       "      <th>headline_text</th>\n",
       "    </tr>\n",
       "  </thead>\n",
       "  <tbody>\n",
       "    <tr>\n",
       "      <th>0</th>\n",
       "      <td>20100101</td>\n",
       "      <td>100 Most Anticipated books releasing in 2010</td>\n",
       "    </tr>\n",
       "    <tr>\n",
       "      <th>1</th>\n",
       "      <td>20100101</td>\n",
       "      <td>10 best films of 2009 - What's on your list?</td>\n",
       "    </tr>\n",
       "    <tr>\n",
       "      <th>2</th>\n",
       "      <td>20100101</td>\n",
       "      <td>10 days of free admission at Lan Su Chinese Ga...</td>\n",
       "    </tr>\n",
       "    <tr>\n",
       "      <th>3</th>\n",
       "      <td>20100101</td>\n",
       "      <td>10 PlayStation games to watch out for in 2010</td>\n",
       "    </tr>\n",
       "    <tr>\n",
       "      <th>4</th>\n",
       "      <td>20100101</td>\n",
       "      <td>10 resolutions for a Happy New Year for you an...</td>\n",
       "    </tr>\n",
       "  </tbody>\n",
       "</table>\n",
       "</div>"
      ],
      "text/plain": [
       "   publish_date                                      headline_text\n",
       "0      20100101       100 Most Anticipated books releasing in 2010\n",
       "1      20100101       10 best films of 2009 - What's on your list?\n",
       "2      20100101  10 days of free admission at Lan Su Chinese Ga...\n",
       "3      20100101      10 PlayStation games to watch out for in 2010\n",
       "4      20100101  10 resolutions for a Happy New Year for you an..."
      ]
     },
     "execution_count": 37,
     "metadata": {},
     "output_type": "execute_result"
    }
   ],
   "source": [
    "exm.head()"
   ]
  },
  {
   "cell_type": "code",
   "execution_count": 40,
   "metadata": {},
   "outputs": [],
   "source": [
    "def change_dtype(df, column, new_dtype): #changes data type for df columns\n",
    "    if df[column].dtype == new_dtype:\n",
    "        print(\"Current dtype is the same as\", new_dtype)\n",
    "    elif new_dtype == 'datetime64[ns]':\n",
    "        df[column] = pd.to_datetime(df[column], format='%Y%m%d')\n",
    "        return(df)\n",
    "    else:\n",
    "        df[column] = df[column].astype(new_dtype)\n",
    "        return(df)\n",
    "        "
   ]
  },
  {
   "cell_type": "code",
   "execution_count": 41,
   "metadata": {},
   "outputs": [
    {
     "data": {
      "text/html": [
       "<div>\n",
       "<style scoped>\n",
       "    .dataframe tbody tr th:only-of-type {\n",
       "        vertical-align: middle;\n",
       "    }\n",
       "\n",
       "    .dataframe tbody tr th {\n",
       "        vertical-align: top;\n",
       "    }\n",
       "\n",
       "    .dataframe thead th {\n",
       "        text-align: right;\n",
       "    }\n",
       "</style>\n",
       "<table border=\"1\" class=\"dataframe\">\n",
       "  <thead>\n",
       "    <tr style=\"text-align: right;\">\n",
       "      <th></th>\n",
       "      <th>publish_date</th>\n",
       "      <th>headline_text</th>\n",
       "    </tr>\n",
       "  </thead>\n",
       "  <tbody>\n",
       "    <tr>\n",
       "      <th>0</th>\n",
       "      <td>2003-02-19</td>\n",
       "      <td>aba decides against community broadcasting lic...</td>\n",
       "    </tr>\n",
       "    <tr>\n",
       "      <th>1</th>\n",
       "      <td>2003-02-19</td>\n",
       "      <td>act fire witnesses must be aware of defamation</td>\n",
       "    </tr>\n",
       "    <tr>\n",
       "      <th>2</th>\n",
       "      <td>2003-02-19</td>\n",
       "      <td>a g calls for infrastructure protection summit</td>\n",
       "    </tr>\n",
       "    <tr>\n",
       "      <th>3</th>\n",
       "      <td>2003-02-19</td>\n",
       "      <td>air nz staff in aust strike for pay rise</td>\n",
       "    </tr>\n",
       "    <tr>\n",
       "      <th>4</th>\n",
       "      <td>2003-02-19</td>\n",
       "      <td>air nz strike to affect australian travellers</td>\n",
       "    </tr>\n",
       "    <tr>\n",
       "      <th>...</th>\n",
       "      <td>...</td>\n",
       "      <td>...</td>\n",
       "    </tr>\n",
       "    <tr>\n",
       "      <th>1226253</th>\n",
       "      <td>2020-12-31</td>\n",
       "      <td>what abc readers learned from 2020 looking bac...</td>\n",
       "    </tr>\n",
       "    <tr>\n",
       "      <th>1226254</th>\n",
       "      <td>2020-12-31</td>\n",
       "      <td>what are the south african and uk variants of ...</td>\n",
       "    </tr>\n",
       "    <tr>\n",
       "      <th>1226255</th>\n",
       "      <td>2020-12-31</td>\n",
       "      <td>what victorias coronavirus restrictions mean f...</td>\n",
       "    </tr>\n",
       "    <tr>\n",
       "      <th>1226256</th>\n",
       "      <td>2020-12-31</td>\n",
       "      <td>whats life like as an american doctor during c...</td>\n",
       "    </tr>\n",
       "    <tr>\n",
       "      <th>1226257</th>\n",
       "      <td>2020-12-31</td>\n",
       "      <td>womens shed canberra reskilling unemployed pan...</td>\n",
       "    </tr>\n",
       "  </tbody>\n",
       "</table>\n",
       "<p>1226258 rows × 2 columns</p>\n",
       "</div>"
      ],
      "text/plain": [
       "        publish_date                                      headline_text\n",
       "0         2003-02-19  aba decides against community broadcasting lic...\n",
       "1         2003-02-19     act fire witnesses must be aware of defamation\n",
       "2         2003-02-19     a g calls for infrastructure protection summit\n",
       "3         2003-02-19           air nz staff in aust strike for pay rise\n",
       "4         2003-02-19      air nz strike to affect australian travellers\n",
       "...              ...                                                ...\n",
       "1226253   2020-12-31  what abc readers learned from 2020 looking bac...\n",
       "1226254   2020-12-31  what are the south african and uk variants of ...\n",
       "1226255   2020-12-31  what victorias coronavirus restrictions mean f...\n",
       "1226256   2020-12-31  whats life like as an american doctor during c...\n",
       "1226257   2020-12-31  womens shed canberra reskilling unemployed pan...\n",
       "\n",
       "[1226258 rows x 2 columns]"
      ]
     },
     "execution_count": 41,
     "metadata": {},
     "output_type": "execute_result"
    }
   ],
   "source": [
    "change_dtype(abc,'publish_date','datetime64[ns]' )"
   ]
  },
  {
   "cell_type": "code",
   "execution_count": 42,
   "metadata": {},
   "outputs": [
    {
     "data": {
      "text/html": [
       "<div>\n",
       "<style scoped>\n",
       "    .dataframe tbody tr th:only-of-type {\n",
       "        vertical-align: middle;\n",
       "    }\n",
       "\n",
       "    .dataframe tbody tr th {\n",
       "        vertical-align: top;\n",
       "    }\n",
       "\n",
       "    .dataframe thead th {\n",
       "        text-align: right;\n",
       "    }\n",
       "</style>\n",
       "<table border=\"1\" class=\"dataframe\">\n",
       "  <thead>\n",
       "    <tr style=\"text-align: right;\">\n",
       "      <th></th>\n",
       "      <th>publish_date</th>\n",
       "      <th>headline_text</th>\n",
       "    </tr>\n",
       "  </thead>\n",
       "  <tbody>\n",
       "    <tr>\n",
       "      <th>0</th>\n",
       "      <td>2003-02-19</td>\n",
       "      <td>aba decides against community broadcasting lic...</td>\n",
       "    </tr>\n",
       "    <tr>\n",
       "      <th>1</th>\n",
       "      <td>2003-02-19</td>\n",
       "      <td>act fire witnesses must be aware of defamation</td>\n",
       "    </tr>\n",
       "    <tr>\n",
       "      <th>2</th>\n",
       "      <td>2003-02-19</td>\n",
       "      <td>a g calls for infrastructure protection summit</td>\n",
       "    </tr>\n",
       "    <tr>\n",
       "      <th>3</th>\n",
       "      <td>2003-02-19</td>\n",
       "      <td>air nz staff in aust strike for pay rise</td>\n",
       "    </tr>\n",
       "    <tr>\n",
       "      <th>4</th>\n",
       "      <td>2003-02-19</td>\n",
       "      <td>air nz strike to affect australian travellers</td>\n",
       "    </tr>\n",
       "    <tr>\n",
       "      <th>...</th>\n",
       "      <td>...</td>\n",
       "      <td>...</td>\n",
       "    </tr>\n",
       "    <tr>\n",
       "      <th>1226253</th>\n",
       "      <td>2020-12-31</td>\n",
       "      <td>what abc readers learned from 2020 looking bac...</td>\n",
       "    </tr>\n",
       "    <tr>\n",
       "      <th>1226254</th>\n",
       "      <td>2020-12-31</td>\n",
       "      <td>what are the south african and uk variants of ...</td>\n",
       "    </tr>\n",
       "    <tr>\n",
       "      <th>1226255</th>\n",
       "      <td>2020-12-31</td>\n",
       "      <td>what victorias coronavirus restrictions mean f...</td>\n",
       "    </tr>\n",
       "    <tr>\n",
       "      <th>1226256</th>\n",
       "      <td>2020-12-31</td>\n",
       "      <td>whats life like as an american doctor during c...</td>\n",
       "    </tr>\n",
       "    <tr>\n",
       "      <th>1226257</th>\n",
       "      <td>2020-12-31</td>\n",
       "      <td>womens shed canberra reskilling unemployed pan...</td>\n",
       "    </tr>\n",
       "  </tbody>\n",
       "</table>\n",
       "<p>1226258 rows × 2 columns</p>\n",
       "</div>"
      ],
      "text/plain": [
       "        publish_date                                      headline_text\n",
       "0         2003-02-19  aba decides against community broadcasting lic...\n",
       "1         2003-02-19     act fire witnesses must be aware of defamation\n",
       "2         2003-02-19     a g calls for infrastructure protection summit\n",
       "3         2003-02-19           air nz staff in aust strike for pay rise\n",
       "4         2003-02-19      air nz strike to affect australian travellers\n",
       "...              ...                                                ...\n",
       "1226253   2020-12-31  what abc readers learned from 2020 looking bac...\n",
       "1226254   2020-12-31  what are the south african and uk variants of ...\n",
       "1226255   2020-12-31  what victorias coronavirus restrictions mean f...\n",
       "1226256   2020-12-31  whats life like as an american doctor during c...\n",
       "1226257   2020-12-31  womens shed canberra reskilling unemployed pan...\n",
       "\n",
       "[1226258 rows x 2 columns]"
      ]
     },
     "execution_count": 42,
     "metadata": {},
     "output_type": "execute_result"
    }
   ],
   "source": [
    "change_dtype(abc,'headline_text','str' )"
   ]
  },
  {
   "cell_type": "code",
   "execution_count": 44,
   "metadata": {},
   "outputs": [
    {
     "name": "stdout",
     "output_type": "stream",
     "text": [
      "<class 'pandas.core.frame.DataFrame'>\n",
      "RangeIndex: 1226258 entries, 0 to 1226257\n",
      "Data columns (total 2 columns):\n",
      " #   Column         Non-Null Count    Dtype         \n",
      "---  ------         --------------    -----         \n",
      " 0   publish_date   1226258 non-null  datetime64[ns]\n",
      " 1   headline_text  1226258 non-null  object        \n",
      "dtypes: datetime64[ns](1), object(1)\n",
      "memory usage: 18.7+ MB\n"
     ]
    }
   ],
   "source": [
    "abc.info()"
   ]
  },
  {
   "cell_type": "code",
   "execution_count": 45,
   "metadata": {},
   "outputs": [
    {
     "data": {
      "text/html": [
       "<div>\n",
       "<style scoped>\n",
       "    .dataframe tbody tr th:only-of-type {\n",
       "        vertical-align: middle;\n",
       "    }\n",
       "\n",
       "    .dataframe tbody tr th {\n",
       "        vertical-align: top;\n",
       "    }\n",
       "\n",
       "    .dataframe thead th {\n",
       "        text-align: right;\n",
       "    }\n",
       "</style>\n",
       "<table border=\"1\" class=\"dataframe\">\n",
       "  <thead>\n",
       "    <tr style=\"text-align: right;\">\n",
       "      <th></th>\n",
       "      <th>publish_date</th>\n",
       "      <th>headline_text</th>\n",
       "    </tr>\n",
       "  </thead>\n",
       "  <tbody>\n",
       "    <tr>\n",
       "      <th>0</th>\n",
       "      <td>2010-01-01</td>\n",
       "      <td>100 Most Anticipated books releasing in 2010</td>\n",
       "    </tr>\n",
       "    <tr>\n",
       "      <th>1</th>\n",
       "      <td>2010-01-01</td>\n",
       "      <td>10 best films of 2009 - What's on your list?</td>\n",
       "    </tr>\n",
       "    <tr>\n",
       "      <th>2</th>\n",
       "      <td>2010-01-01</td>\n",
       "      <td>10 days of free admission at Lan Su Chinese Ga...</td>\n",
       "    </tr>\n",
       "    <tr>\n",
       "      <th>3</th>\n",
       "      <td>2010-01-01</td>\n",
       "      <td>10 PlayStation games to watch out for in 2010</td>\n",
       "    </tr>\n",
       "    <tr>\n",
       "      <th>4</th>\n",
       "      <td>2010-01-01</td>\n",
       "      <td>10 resolutions for a Happy New Year for you an...</td>\n",
       "    </tr>\n",
       "    <tr>\n",
       "      <th>...</th>\n",
       "      <td>...</td>\n",
       "      <td>...</td>\n",
       "    </tr>\n",
       "    <tr>\n",
       "      <th>3089776</th>\n",
       "      <td>2015-12-31</td>\n",
       "      <td>Which is better investment, Lego bricks or gol...</td>\n",
       "    </tr>\n",
       "    <tr>\n",
       "      <th>3089777</th>\n",
       "      <td>2015-12-31</td>\n",
       "      <td>Wild score three unanswered goals to defeat th...</td>\n",
       "    </tr>\n",
       "    <tr>\n",
       "      <th>3089778</th>\n",
       "      <td>2015-12-31</td>\n",
       "      <td>With NASA and Russia on the sidelines, Europe ...</td>\n",
       "    </tr>\n",
       "    <tr>\n",
       "      <th>3089779</th>\n",
       "      <td>2015-12-31</td>\n",
       "      <td>Wolf Pack battling opponents, officials on the...</td>\n",
       "    </tr>\n",
       "    <tr>\n",
       "      <th>3089780</th>\n",
       "      <td>2015-12-31</td>\n",
       "      <td>Writespace hosts all genre open mic night</td>\n",
       "    </tr>\n",
       "  </tbody>\n",
       "</table>\n",
       "<p>3089781 rows × 2 columns</p>\n",
       "</div>"
      ],
      "text/plain": [
       "        publish_date                                      headline_text\n",
       "0         2010-01-01       100 Most Anticipated books releasing in 2010\n",
       "1         2010-01-01       10 best films of 2009 - What's on your list?\n",
       "2         2010-01-01  10 days of free admission at Lan Su Chinese Ga...\n",
       "3         2010-01-01      10 PlayStation games to watch out for in 2010\n",
       "4         2010-01-01  10 resolutions for a Happy New Year for you an...\n",
       "...              ...                                                ...\n",
       "3089776   2015-12-31  Which is better investment, Lego bricks or gol...\n",
       "3089777   2015-12-31  Wild score three unanswered goals to defeat th...\n",
       "3089778   2015-12-31  With NASA and Russia on the sidelines, Europe ...\n",
       "3089779   2015-12-31  Wolf Pack battling opponents, officials on the...\n",
       "3089780   2015-12-31          Writespace hosts all genre open mic night\n",
       "\n",
       "[3089781 rows x 2 columns]"
      ]
     },
     "execution_count": 45,
     "metadata": {},
     "output_type": "execute_result"
    }
   ],
   "source": [
    "change_dtype(exm, 'publish_date', 'datetime64[ns]')\n",
    "change_dtype(exm, 'headline_text', str)"
   ]
  },
  {
   "cell_type": "code",
   "execution_count": 46,
   "metadata": {},
   "outputs": [
    {
     "name": "stdout",
     "output_type": "stream",
     "text": [
      "<class 'pandas.core.frame.DataFrame'>\n",
      "RangeIndex: 3089781 entries, 0 to 3089780\n",
      "Data columns (total 2 columns):\n",
      " #   Column         Dtype         \n",
      "---  ------         -----         \n",
      " 0   publish_date   datetime64[ns]\n",
      " 1   headline_text  object        \n",
      "dtypes: datetime64[ns](1), object(1)\n",
      "memory usage: 47.1+ MB\n"
     ]
    }
   ],
   "source": [
    "exm.info()"
   ]
  },
  {
   "cell_type": "code",
   "execution_count": 47,
   "metadata": {},
   "outputs": [
    {
     "data": {
      "text/plain": [
       "publish_date     False\n",
       "headline_text    False\n",
       "dtype: bool"
      ]
     },
     "execution_count": 47,
     "metadata": {},
     "output_type": "execute_result"
    }
   ],
   "source": [
    "abc.isna().any()"
   ]
  },
  {
   "cell_type": "code",
   "execution_count": 48,
   "metadata": {},
   "outputs": [
    {
     "data": {
      "text/plain": [
       "publish_date     False\n",
       "headline_text    False\n",
       "dtype: bool"
      ]
     },
     "execution_count": 48,
     "metadata": {},
     "output_type": "execute_result"
    }
   ],
   "source": [
    "exm.isna().any()"
   ]
  },
  {
   "cell_type": "markdown",
   "metadata": {},
   "source": [
    "## Joining dfs together"
   ]
  },
  {
   "cell_type": "code",
   "execution_count": 49,
   "metadata": {},
   "outputs": [],
   "source": [
    "#adding new column to identify clickbait or not\n",
    "abc['clickbait'] = 0\n",
    "exm['clickbait'] = 1"
   ]
  },
  {
   "cell_type": "code",
   "execution_count": 50,
   "metadata": {},
   "outputs": [
    {
     "data": {
      "text/html": [
       "<div>\n",
       "<style scoped>\n",
       "    .dataframe tbody tr th:only-of-type {\n",
       "        vertical-align: middle;\n",
       "    }\n",
       "\n",
       "    .dataframe tbody tr th {\n",
       "        vertical-align: top;\n",
       "    }\n",
       "\n",
       "    .dataframe thead th {\n",
       "        text-align: right;\n",
       "    }\n",
       "</style>\n",
       "<table border=\"1\" class=\"dataframe\">\n",
       "  <thead>\n",
       "    <tr style=\"text-align: right;\">\n",
       "      <th></th>\n",
       "      <th>publish_date</th>\n",
       "      <th>headline_text</th>\n",
       "      <th>clickbait</th>\n",
       "    </tr>\n",
       "  </thead>\n",
       "  <tbody>\n",
       "    <tr>\n",
       "      <th>0</th>\n",
       "      <td>2003-02-19</td>\n",
       "      <td>aba decides against community broadcasting lic...</td>\n",
       "      <td>0</td>\n",
       "    </tr>\n",
       "    <tr>\n",
       "      <th>1</th>\n",
       "      <td>2003-02-19</td>\n",
       "      <td>act fire witnesses must be aware of defamation</td>\n",
       "      <td>0</td>\n",
       "    </tr>\n",
       "    <tr>\n",
       "      <th>2</th>\n",
       "      <td>2003-02-19</td>\n",
       "      <td>a g calls for infrastructure protection summit</td>\n",
       "      <td>0</td>\n",
       "    </tr>\n",
       "    <tr>\n",
       "      <th>3</th>\n",
       "      <td>2003-02-19</td>\n",
       "      <td>air nz staff in aust strike for pay rise</td>\n",
       "      <td>0</td>\n",
       "    </tr>\n",
       "    <tr>\n",
       "      <th>4</th>\n",
       "      <td>2003-02-19</td>\n",
       "      <td>air nz strike to affect australian travellers</td>\n",
       "      <td>0</td>\n",
       "    </tr>\n",
       "  </tbody>\n",
       "</table>\n",
       "</div>"
      ],
      "text/plain": [
       "  publish_date                                      headline_text  clickbait\n",
       "0   2003-02-19  aba decides against community broadcasting lic...          0\n",
       "1   2003-02-19     act fire witnesses must be aware of defamation          0\n",
       "2   2003-02-19     a g calls for infrastructure protection summit          0\n",
       "3   2003-02-19           air nz staff in aust strike for pay rise          0\n",
       "4   2003-02-19      air nz strike to affect australian travellers          0"
      ]
     },
     "execution_count": 50,
     "metadata": {},
     "output_type": "execute_result"
    }
   ],
   "source": [
    "abc.head()"
   ]
  },
  {
   "cell_type": "code",
   "execution_count": 51,
   "metadata": {},
   "outputs": [
    {
     "data": {
      "text/html": [
       "<div>\n",
       "<style scoped>\n",
       "    .dataframe tbody tr th:only-of-type {\n",
       "        vertical-align: middle;\n",
       "    }\n",
       "\n",
       "    .dataframe tbody tr th {\n",
       "        vertical-align: top;\n",
       "    }\n",
       "\n",
       "    .dataframe thead th {\n",
       "        text-align: right;\n",
       "    }\n",
       "</style>\n",
       "<table border=\"1\" class=\"dataframe\">\n",
       "  <thead>\n",
       "    <tr style=\"text-align: right;\">\n",
       "      <th></th>\n",
       "      <th>publish_date</th>\n",
       "      <th>headline_text</th>\n",
       "      <th>clickbait</th>\n",
       "    </tr>\n",
       "  </thead>\n",
       "  <tbody>\n",
       "    <tr>\n",
       "      <th>0</th>\n",
       "      <td>2010-01-01</td>\n",
       "      <td>100 Most Anticipated books releasing in 2010</td>\n",
       "      <td>1</td>\n",
       "    </tr>\n",
       "    <tr>\n",
       "      <th>1</th>\n",
       "      <td>2010-01-01</td>\n",
       "      <td>10 best films of 2009 - What's on your list?</td>\n",
       "      <td>1</td>\n",
       "    </tr>\n",
       "    <tr>\n",
       "      <th>2</th>\n",
       "      <td>2010-01-01</td>\n",
       "      <td>10 days of free admission at Lan Su Chinese Ga...</td>\n",
       "      <td>1</td>\n",
       "    </tr>\n",
       "    <tr>\n",
       "      <th>3</th>\n",
       "      <td>2010-01-01</td>\n",
       "      <td>10 PlayStation games to watch out for in 2010</td>\n",
       "      <td>1</td>\n",
       "    </tr>\n",
       "    <tr>\n",
       "      <th>4</th>\n",
       "      <td>2010-01-01</td>\n",
       "      <td>10 resolutions for a Happy New Year for you an...</td>\n",
       "      <td>1</td>\n",
       "    </tr>\n",
       "  </tbody>\n",
       "</table>\n",
       "</div>"
      ],
      "text/plain": [
       "  publish_date                                      headline_text  clickbait\n",
       "0   2010-01-01       100 Most Anticipated books releasing in 2010          1\n",
       "1   2010-01-01       10 best films of 2009 - What's on your list?          1\n",
       "2   2010-01-01  10 days of free admission at Lan Su Chinese Ga...          1\n",
       "3   2010-01-01      10 PlayStation games to watch out for in 2010          1\n",
       "4   2010-01-01  10 resolutions for a Happy New Year for you an...          1"
      ]
     },
     "execution_count": 51,
     "metadata": {},
     "output_type": "execute_result"
    }
   ],
   "source": [
    "exm.head()"
   ]
  },
  {
   "cell_type": "code",
   "execution_count": 58,
   "metadata": {},
   "outputs": [
    {
     "name": "stdout",
     "output_type": "stream",
     "text": [
      "2010-01-01 00:00:00 2015-12-31 00:00:00 (3089781, 3)\n",
      "2010-01-01 00:00:00 2015-12-31 00:00:00 (492466, 3)\n"
     ]
    }
   ],
   "source": [
    "#selecting only the years both dfs have in common\n",
    "print(exm['publish_date'].min(), exm['publish_date'].max(), exm.shape)\n",
    "low = exm['publish_date'].min()\n",
    "high = exm['publish_date'].max()\n",
    "\n",
    "abc = abc.loc[(abc['publish_date']>=low) & (abc['publish_date']<=high)]\n",
    "print(abc['publish_date'].min(), abc['publish_date'].max(), abc.shape)"
   ]
  },
  {
   "cell_type": "code",
   "execution_count": 75,
   "metadata": {},
   "outputs": [
    {
     "data": {
      "text/html": [
       "<div>\n",
       "<style scoped>\n",
       "    .dataframe tbody tr th:only-of-type {\n",
       "        vertical-align: middle;\n",
       "    }\n",
       "\n",
       "    .dataframe tbody tr th {\n",
       "        vertical-align: top;\n",
       "    }\n",
       "\n",
       "    .dataframe thead th {\n",
       "        text-align: right;\n",
       "    }\n",
       "</style>\n",
       "<table border=\"1\" class=\"dataframe\">\n",
       "  <thead>\n",
       "    <tr style=\"text-align: right;\">\n",
       "      <th></th>\n",
       "      <th>publish_date</th>\n",
       "      <th>headline_text</th>\n",
       "      <th>clickbait</th>\n",
       "    </tr>\n",
       "  </thead>\n",
       "  <tbody>\n",
       "    <tr>\n",
       "      <th>0</th>\n",
       "      <td>2010-01-01</td>\n",
       "      <td>12m degas stolen from museum</td>\n",
       "      <td>0</td>\n",
       "    </tr>\n",
       "    <tr>\n",
       "      <th>1</th>\n",
       "      <td>2010-01-01</td>\n",
       "      <td>17 die in bangladesh bus crash</td>\n",
       "      <td>0</td>\n",
       "    </tr>\n",
       "    <tr>\n",
       "      <th>2</th>\n",
       "      <td>2010-01-01</td>\n",
       "      <td>2010 to be drier after very wet 2009</td>\n",
       "      <td>0</td>\n",
       "    </tr>\n",
       "    <tr>\n",
       "      <th>3</th>\n",
       "      <td>2010-01-01</td>\n",
       "      <td>37 catholic workers killed worldwide</td>\n",
       "      <td>0</td>\n",
       "    </tr>\n",
       "    <tr>\n",
       "      <th>4</th>\n",
       "      <td>2010-01-01</td>\n",
       "      <td>600 hurt in philippine new year revelry</td>\n",
       "      <td>0</td>\n",
       "    </tr>\n",
       "  </tbody>\n",
       "</table>\n",
       "</div>"
      ],
      "text/plain": [
       "  publish_date                            headline_text  clickbait\n",
       "0   2010-01-01             12m degas stolen from museum          0\n",
       "1   2010-01-01           17 die in bangladesh bus crash          0\n",
       "2   2010-01-01     2010 to be drier after very wet 2009          0\n",
       "3   2010-01-01     37 catholic workers killed worldwide          0\n",
       "4   2010-01-01  600 hurt in philippine new year revelry          0"
      ]
     },
     "execution_count": 75,
     "metadata": {},
     "output_type": "execute_result"
    }
   ],
   "source": [
    "#use concat to combine the two df\n",
    "df = pd.concat([abc, exm], ignore_index=True)\n",
    "df.head()"
   ]
  },
  {
   "cell_type": "code",
   "execution_count": 87,
   "metadata": {},
   "outputs": [
    {
     "data": {
      "text/plain": [
       "<matplotlib.axes._subplots.AxesSubplot at 0x7ff9fd7c8e20>"
      ]
     },
     "execution_count": 87,
     "metadata": {},
     "output_type": "execute_result"
    },
    {
     "data": {
      "image/png": "[encoded data removed]",
      "text/plain": [
       "<Figure size 432x288 with 1 Axes>"
      ]
     },
     "metadata": {
      "needs_background": "light"
     },
     "output_type": "display_data"
    }
   ],
   "source": [
    "#comparing name length\n",
    "df['length'] = df['headline_text'].str.len()\n",
    "df.head()\n",
    "sns.histplot(df,bins=25, x='length', hue='clickbait')"
   ]
  },
  {
   "cell_type": "code",
   "execution_count": null,
   "metadata": {},
   "outputs": [],
   "source": []
  }
 ],
 "metadata": {
  "kernelspec": {
   "display_name": "Python 3",
   "language": "python",
   "name": "python3"
  },
  "language_info": {
   "codemirror_mode": {
    "name": "ipython",
    "version": 3
   },
   "file_extension": ".py",
   "mimetype": "text/x-python",
   "name": "python",
   "nbconvert_exporter": "python",
   "pygments_lexer": "ipython3",
   "version": "3.8.3"
  }
 },
 "nbformat": 4,
 "nbformat_minor": 4
}
